{
  "cells": [
    {
      "cell_type": "code",
      "execution_count": 1,
      "metadata": {
        "id": "zAVv7DVRvhBo"
      },
      "outputs": [],
      "source": [
        "import pandas as pd\n",
        "from math import sqrt\n",
        "import numpy as np\n"
      ]
    },
    {
      "cell_type": "code",
      "execution_count": 2,
      "metadata": {
        "colab": {
          "base_uri": "https://localhost:8080/"
        },
        "id": "_iOvaGf3vunO",
        "outputId": "d8ddae23-b636-4765-8756-7e78736562b0"
      },
      "outputs": [
        {
          "name": "stdout",
          "output_type": "stream",
          "text": [
            "<class 'pandas.core.frame.DataFrame'>\n",
            "RangeIndex: 100836 entries, 0 to 100835\n",
            "Data columns (total 4 columns):\n",
            " #   Column     Non-Null Count   Dtype  \n",
            "---  ------     --------------   -----  \n",
            " 0   userId     100836 non-null  int64  \n",
            " 1   movieId    100836 non-null  int64  \n",
            " 2   rating     100836 non-null  float64\n",
            " 3   timestamp  100836 non-null  int64  \n",
            "dtypes: float64(1), int64(3)\n",
            "memory usage: 3.1 MB\n"
          ]
        }
      ],
      "source": [
        "movies_df = pd.read_csv('movies.csv')\n",
        "ratings_df = pd.read_csv('ratings.csv')\n",
        "ratings_df.info()"
      ]
    },
    {
      "cell_type": "code",
      "execution_count": 3,
      "metadata": {
        "colab": {
          "base_uri": "https://localhost:8080/"
        },
        "id": "NOGrO3oyx3dT",
        "outputId": "b402b91c-7a62-41a0-a297-f474e423cb5f"
      },
      "outputs": [
        {
          "name": "stdout",
          "output_type": "stream",
          "text": [
            "                          title  rating\n",
            "0               Die Hard (1988)       4\n",
            "1  Bridget Jones's Diary (2001)       3\n",
            "2              Spotlight (2015)       5\n",
            "3                 Frozen (2013)       4\n",
            "4             The Matrix (1999)       5\n"
          ]
        }
      ],
      "source": [
        "userInput = [\n",
        "    {'title': 'Die Hard (1988)', 'rating': 4},\n",
        "    {'title': 'Bridget Jones\\'s Diary (2001)', 'rating': 3},\n",
        "    {'title': 'Spotlight (2015)', 'rating': 5},\n",
        "    {'title': 'Frozen (2013)', 'rating': 4},\n",
        "    {'title': 'The Matrix (1999)', 'rating': 5}\n",
        "]\n",
        "inputMovies = pd.DataFrame(userInput)\n",
        "print(inputMovies)"
      ]
    },
    {
      "cell_type": "code",
      "execution_count": 4,
      "metadata": {
        "colab": {
          "base_uri": "https://localhost:8080/"
        },
        "id": "3MLV83Rt0OYX",
        "outputId": "e8b6e70b-d072-4bc4-ec1a-f04c7c7e3df3"
      },
      "outputs": [
        {
          "name": "stdout",
          "output_type": "stream",
          "text": [
            "   movieId                         title  rating\n",
            "0     1036               Die Hard (1988)       4\n",
            "1     4246  Bridget Jones's Diary (2001)       3\n",
            "2   106696                 Frozen (2013)       4\n",
            "3   142488              Spotlight (2015)       5\n"
          ]
        }
      ],
      "source": [
        "inputId = movies_df[movies_df['title'].isin(inputMovies['title'].tolist())]\n",
        "inputMovies = pd.merge(inputId, inputMovies)\n",
        "inputMovies = inputMovies[['movieId','title','rating']]\n",
        "print(inputMovies)\n"
      ]
    },
    {
      "cell_type": "code",
      "execution_count": 5,
      "metadata": {
        "colab": {
          "base_uri": "https://localhost:8080/"
        },
        "id": "63EJm4mK1OUA",
        "outputId": "460126bd-d2df-40fb-c6f0-4a95081e614f"
      },
      "outputs": [
        {
          "name": "stdout",
          "output_type": "stream",
          "text": [
            "         userId  rating  timestamp\n",
            "movieId                           \n",
            "1036        145     145        145\n",
            "4246         65      65         65\n",
            "106696       29      29         29\n",
            "142488       19      19         19\n"
          ]
        }
      ],
      "source": [
        "userSubset = ratings_df[ratings_df['movieId'].isin(inputMovies['movieId'].tolist())]\n",
        "print(userSubset.groupby('movieId').count())\n"
      ]
    },
    {
      "cell_type": "code",
      "execution_count": 6,
      "metadata": {
        "colab": {
          "base_uri": "https://localhost:8080/"
        },
        "id": "4AnjN_Yh1Ueq",
        "outputId": "bc709897-f732-4764-c521-a3e76efa4035"
      },
      "outputs": [
        {
          "name": "stdout",
          "output_type": "stream",
          "text": [
            "[((249,),        userId  movieId  rating   timestamp\n",
            "36440     249     1036     4.0  1346757908\n",
            "36643     249     4246     3.5  1415415300\n",
            "37282     249   106696     3.5  1396222978\n",
            "37371     249   142488     4.5  1516415602), ((305,),        userId  movieId  rating   timestamp\n",
            "46005     305     1036     4.0  1460135744\n",
            "46162     305     4246     4.5  1460303017\n",
            "46526     305   106696     4.0  1460303575\n",
            "46595     305   142488     3.0  1460134123), ((525,),        userId  movieId  rating   timestamp\n",
            "82674     525     1036     4.5  1476475914\n",
            "82798     525     4246     3.5  1476479382\n",
            "83064     525   106696     3.5  1476476140\n",
            "83099     525   142488     3.5  1476476169), ((63,),       userId  movieId  rating   timestamp\n",
            "9200      63     1036     4.0  1443199792\n",
            "9290      63     4246     3.0  1443290259\n",
            "9418      63   106696     5.0  1443461176), ((68,),        userId  movieId  rating   timestamp\n",
            "10528      68     1036     3.0  1158531885\n",
            "10978      68     4246     4.0  1158532209\n",
            "11613      68   142488     4.5  1526947627)]\n"
          ]
        }
      ],
      "source": [
        "userSubsetGroup = userSubset.groupby(['userId'])\n",
        "\n",
        "def take_5_elem(x):\n",
        "    return len(x[1])\n",
        "\n",
        "userSubsetGroup = sorted(userSubsetGroup, key=take_5_elem, reverse=True)\n",
        "\n",
        "userSubsetGroup = userSubsetGroup[0:100]\n",
        "print(userSubsetGroup[0:5])"
      ]
    },
    {
      "cell_type": "code",
      "execution_count": 7,
      "metadata": {
        "id": "TUxDp2GA14RC"
      },
      "outputs": [],
      "source": [
        "# Initialize a dictionary to store Pearson Correlation coefficients\n",
        "pearson_corr_dict = {}\n",
        "\n",
        "for user_id, ratings in userSubsetGroup:\n",
        "\n",
        "    sorted_user_ratings = ratings.sort_values(by='movieId')\n",
        "    sorted_input_ratings = inputMovies.sort_values(by='movieId')\n",
        "\n",
        "    common_count = len(sorted_user_ratings)\n",
        "\n",
        "    common_ratings = inputMovies[inputMovies['movieId'].isin(sorted_user_ratings['movieId'].tolist())]\n",
        "    user_ratings_list = common_ratings['rating'].tolist()\n",
        "    input_ratings_list = sorted_user_ratings['rating'].tolist()\n",
        "\n",
        "    sum_user_sq = sum([i**2 for i in user_ratings_list]) - pow(sum(user_ratings_list), 2) / common_count\n",
        "    sum_input_sq = sum([i**2 for i in input_ratings_list]) - pow(sum(input_ratings_list), 2) / common_count\n",
        "    sum_product = sum(i * j for i, j in zip(user_ratings_list, input_ratings_list)) - sum(user_ratings_list) * sum(input_ratings_list) / common_count\n",
        "\n",
        "    # Calculate the Pearson correlation coefficient\n",
        "    if sum_user_sq != 0 and sum_input_sq != 0:\n",
        "        pearson_corr_dict[user_id] = sum_product / (sqrt(sum_user_sq) * sqrt(sum_input_sq))\n",
        "    else:\n",
        "        pearson_corr_dict[user_id] = 0\n"
      ]
    },
    {
      "cell_type": "code",
      "execution_count": 8,
      "metadata": {
        "colab": {
          "base_uri": "https://localhost:8080/"
        },
        "id": "0ciwN0OR15FA",
        "outputId": "3e8e48af-1bdb-4819-956a-43301db44696"
      },
      "outputs": [
        {
          "name": "stdout",
          "output_type": "stream",
          "text": [
            "   similarityIndex  userId\n",
            "0         0.852803  (249,)\n",
            "1        -0.973329  (305,)\n",
            "2         0.000000  (525,)\n",
            "3         0.866025   (63,)\n",
            "4         0.327327   (68,)\n"
          ]
        }
      ],
      "source": [
        "pearsonDF = pd.DataFrame.from_dict(pearson_corr_dict, orient='index')\n",
        "pearsonDF.columns = ['similarityIndex']\n",
        "pearsonDF['userId'] = pearsonDF.index\n",
        "pearsonDF.index = range(len(pearsonDF))\n",
        "print(pearsonDF.head())"
      ]
    },
    {
      "cell_type": "code",
      "execution_count": 9,
      "metadata": {
        "colab": {
          "base_uri": "https://localhost:8080/"
        },
        "id": "lYR8_la_1_Zk",
        "outputId": "cf54cdf1-6bd1-4ba5-9254-d001b040b023"
      },
      "outputs": [
        {
          "name": "stdout",
          "output_type": "stream",
          "text": [
            "    similarityIndex  userId\n",
            "32              1.0  (462,)\n",
            "40              1.0  (561,)\n",
            "42              1.0  (590,)\n",
            "16              1.0   (82,)\n",
            "30              1.0  (418,)\n",
            "object\n",
            "userId\n",
            "<class 'tuple'>    50\n",
            "Name: count, dtype: int64\n"
          ]
        }
      ],
      "source": [
        "topUsers=pearsonDF.sort_values(by='similarityIndex', ascending=False)[0:50]\n",
        "print(topUsers.head())\n",
        "print(topUsers['userId'].dtype)\n",
        "print(topUsers['userId'].apply(type).value_counts())\n",
        "topUsers['userId'] = topUsers['userId'].apply(lambda x: x[0])\n",
        "topUsers['userId'] = topUsers['userId'].astype('int64')\n",
        "topUsersRating = topUsers.merge(ratings_df, left_on='userId', right_on='userId', how='inner')\n",
        "\n"
      ]
    },
    {
      "cell_type": "code",
      "execution_count": 10,
      "metadata": {
        "colab": {
          "base_uri": "https://localhost:8080/"
        },
        "id": "PHWDj9uN2G7v",
        "outputId": "89d97f75-0448-4cf4-fcd5-0e78df7e05aa"
      },
      "outputs": [
        {
          "name": "stdout",
          "output_type": "stream",
          "text": [
            "   similarityIndex  userId  movieId  rating   timestamp  weightedRating\n",
            "0              1.0     462        1     1.5  1154037653             1.5\n",
            "1              1.0     462       10     3.0  1269929071             3.0\n",
            "2              1.0     462       16     3.5  1123893685             3.5\n",
            "3              1.0     462       21     4.0  1121923492             4.0\n",
            "4              1.0     462       25     3.0  1154037817             3.0\n"
          ]
        }
      ],
      "source": [
        "topUsersRating['weightedRating'] = topUsersRating['similarityIndex']*topUsersRating['rating']\n",
        "tempTopUsersRating = topUsersRating.groupby('movieId').sum()[['similarityIndex','weightedRating']]\n",
        "tempTopUsersRating.columns = ['sum_similarityIndex','sum_weightedRating']\n",
        "print(topUsersRating.head())"
      ]
    },
    {
      "cell_type": "code",
      "execution_count": 11,
      "metadata": {
        "colab": {
          "base_uri": "https://localhost:8080/"
        },
        "id": "S3fHg3Oo2PGf",
        "outputId": "d60f6331-7e45-4d27-f36b-84f6423adc06"
      },
      "outputs": [],
      "source": [
        "recommendation_df = pd.DataFrame()\n",
        "recommendation_df['weighted average recommendation score'] = tempTopUsersRating['sum_weightedRating']/tempTopUsersRating['sum_similarityIndex']\n",
        "recommendation_df['movieId'] = tempTopUsersRating.index\n",
        "recommendation_df = recommendation_df.sort_values(by='weighted average recommendation score', ascending=False)\n",
        "recommendation_df_sorted = recommendation_df[recommendation_df['weighted average recommendation score'] > 4.9]\n"
      ]
    },
    {
      "cell_type": "code",
      "execution_count": 12,
      "metadata": {
        "colab": {
          "base_uri": "https://localhost:8080/"
        },
        "id": "BovrXGDN2VDS",
        "outputId": "57e37b0a-eb40-4c77-d458-74242e927791"
      },
      "outputs": [
        {
          "name": "stdout",
          "output_type": "stream",
          "text": [
            "      movieId                             title                  genres\n",
            "251       290         Once Were Warriors (1994)             Crime|Drama\n",
            "281       322       Swimming with Sharks (1995)            Comedy|Drama\n",
            "361       417                  Barcelona (1994)          Comedy|Romance\n",
            "515       599            Wild Bunch, The (1969)       Adventure|Western\n",
            "681       899        Singin' in the Rain (1952)  Comedy|Musical|Romance\n",
            "...       ...                               ...                     ...\n",
            "9443   167064        I Am Not Your Negro (2017)             Documentary\n",
            "9466   168326               The Big Sick (2017)          Comedy|Romance\n",
            "9497   170705           Band of Brothers (2001)        Action|Drama|War\n",
            "9709   187593                 Deadpool 2 (2018)    Action|Comedy|Sci-Fi\n",
            "9711   187717  Won't You Be My Neighbor? (2018)             Documentary\n",
            "\n",
            "[85 rows x 3 columns]\n"
          ]
        }
      ],
      "source": [
        "recommended_movie = movies_df.loc[movies_df['movieId'].isin(recommendation_df_sorted['movieId'])]\n",
        "recommended_movie = recommended_movie.loc[~recommended_movie.movieId.isin(userSubset['movieId'])]\n",
        "print(recommended_movie)"
      ]
    }
  ],
  "metadata": {
    "colab": {
      "provenance": []
    },
    "kernelspec": {
      "display_name": "Python 3",
      "name": "python3"
    },
    "language_info": {
      "codemirror_mode": {
        "name": "ipython",
        "version": 3
      },
      "file_extension": ".py",
      "mimetype": "text/x-python",
      "name": "python",
      "nbconvert_exporter": "python",
      "pygments_lexer": "ipython3",
      "version": "3.10.7"
    }
  },
  "nbformat": 4,
  "nbformat_minor": 0
}
